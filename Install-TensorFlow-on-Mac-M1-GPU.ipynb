{
 "cells": [
  {
   "cell_type": "markdown",
   "id": "f767d75a",
   "metadata": {},
   "source": [
    "# Install TensorFlow on Mac M1/M2 with GPU support\n",
    "Install TensorFlow in a few steps on Mac M1/M2 with GPU support and benefit <br>\n",
    "from the native performance of the new Mac Silicon ARM64 architecture.\n",
    "\n",
    "The article to this project is published on Medium: https://medium.com/@deganza11/install-tensorflow-on-mac-m1-m2-with-gpu-support-c404c6cfb580\n",
    "\n"
   ]
  },
  {
   "cell_type": "markdown",
   "id": "c044e07c",
   "metadata": {},
   "source": [
    "## 1. Install Xcode Command Line Tool\n",
    "If it's not already installed in your system, you can install it by running the following command below in your Mac OSX terminal.\n",
    "\n",
    "xcode-select --install"
   ]
  },
  {
   "cell_type": "markdown",
   "id": "dd48b103",
   "metadata": {},
   "source": [
    "## 2. Install the M1 Miniconda Version\n",
    "Miniconda is the minimal set of features from the extensive Anaconda Python distribution and includes many of the data science related packages that are needed by this class. Download the Miniconda3 macOS Apple M1 64-bit.pkg and install it on your Application directory. <br><br>\n",
    "<b>Miniconda3 </b> download: https://docs.conda.io/en/latest/miniconda.html"
   ]
  },
  {
   "cell_type": "markdown",
   "id": "fdc5e3f0",
   "metadata": {},
   "source": [
    "## 3. Install TensorFlow\n",
    "Change to the Application/miniconda3 directory in your terminal with:\n",
    "\n",
    "cd /Applications/miniconda3"
   ]
  },
  {
   "cell_type": "markdown",
   "id": "780d39de",
   "metadata": {},
   "source": [
    "### Install the TensorFlow dependencies:"
   ]
  },
  {
   "cell_type": "code",
   "execution_count": 1,
   "id": "00eadc4a",
   "metadata": {},
   "outputs": [
    {
     "name": "stdout",
     "output_type": "stream",
     "text": [
      "Channels:\n",
      " - apple\n",
      " - defaults\n",
      " - anaconda\n",
      "Platform: osx-arm64\n",
      "Collecting package metadata (repodata.json): done\n",
      "Solving environment: done\n",
      "\n",
      "# All requested packages already installed.\n",
      "\n",
      "\n",
      "Note: you may need to restart the kernel to use updated packages.\n"
     ]
    }
   ],
   "source": [
    "conda install -c apple tensorflow-deps"
   ]
  },
  {
   "cell_type": "markdown",
   "id": "724874a5",
   "metadata": {},
   "source": [
    "### Install base TensorFlow:"
   ]
  },
  {
   "cell_type": "code",
   "execution_count": 2,
   "id": "9b0df049",
   "metadata": {},
   "outputs": [
    {
     "name": "stdout",
     "output_type": "stream",
     "text": [
      "\u001b[33mWARNING: The directory '/Users/hephaestus/Library/Caches/pip' or its parent directory is not owned or is not writable by the current user. The cache has been disabled. Check the permissions and owner of that directory. If executing pip with sudo, you should use sudo's -H flag.\u001b[0m\u001b[33m\n",
      "\u001b[0mRequirement already satisfied: tensorflow-macos in /Users/hephaestus/miniconda3/lib/python3.9/site-packages (2.16.1)\n",
      "Requirement already satisfied: tensorflow==2.16.1 in /Users/hephaestus/miniconda3/lib/python3.9/site-packages (from tensorflow-macos) (2.16.1)\n",
      "Requirement already satisfied: absl-py>=1.0.0 in /Users/hephaestus/miniconda3/lib/python3.9/site-packages (from tensorflow==2.16.1->tensorflow-macos) (2.0.0)\n",
      "Requirement already satisfied: astunparse>=1.6.0 in /Users/hephaestus/miniconda3/lib/python3.9/site-packages (from tensorflow==2.16.1->tensorflow-macos) (1.6.3)\n",
      "Requirement already satisfied: flatbuffers>=23.5.26 in /Users/hephaestus/miniconda3/lib/python3.9/site-packages (from tensorflow==2.16.1->tensorflow-macos) (23.5.26)\n",
      "Requirement already satisfied: gast!=0.5.0,!=0.5.1,!=0.5.2,>=0.2.1 in /Users/hephaestus/miniconda3/lib/python3.9/site-packages (from tensorflow==2.16.1->tensorflow-macos) (0.5.4)\n",
      "Requirement already satisfied: google-pasta>=0.1.1 in /Users/hephaestus/miniconda3/lib/python3.9/site-packages (from tensorflow==2.16.1->tensorflow-macos) (0.2.0)\n",
      "Requirement already satisfied: h5py>=3.10.0 in /Users/hephaestus/miniconda3/lib/python3.9/site-packages (from tensorflow==2.16.1->tensorflow-macos) (3.11.0)\n",
      "Requirement already satisfied: libclang>=13.0.0 in /Users/hephaestus/miniconda3/lib/python3.9/site-packages (from tensorflow==2.16.1->tensorflow-macos) (16.0.6)\n",
      "Requirement already satisfied: ml-dtypes~=0.3.1 in /Users/hephaestus/miniconda3/lib/python3.9/site-packages (from tensorflow==2.16.1->tensorflow-macos) (0.3.2)\n",
      "Requirement already satisfied: opt-einsum>=2.3.2 in /Users/hephaestus/miniconda3/lib/python3.9/site-packages (from tensorflow==2.16.1->tensorflow-macos) (3.3.0)\n",
      "Requirement already satisfied: packaging in /Users/hephaestus/miniconda3/lib/python3.9/site-packages (from tensorflow==2.16.1->tensorflow-macos) (23.1)\n",
      "Requirement already satisfied: protobuf!=4.21.0,!=4.21.1,!=4.21.2,!=4.21.3,!=4.21.4,!=4.21.5,<5.0.0dev,>=3.20.3 in /Users/hephaestus/miniconda3/lib/python3.9/site-packages (from tensorflow==2.16.1->tensorflow-macos) (4.23.4)\n",
      "Requirement already satisfied: requests<3,>=2.21.0 in /Users/hephaestus/miniconda3/lib/python3.9/site-packages (from tensorflow==2.16.1->tensorflow-macos) (2.31.0)\n",
      "Requirement already satisfied: setuptools in /Users/hephaestus/miniconda3/lib/python3.9/site-packages (from tensorflow==2.16.1->tensorflow-macos) (69.5.1)\n",
      "Requirement already satisfied: six>=1.12.0 in /Users/hephaestus/miniconda3/lib/python3.9/site-packages (from tensorflow==2.16.1->tensorflow-macos) (1.16.0)\n",
      "Requirement already satisfied: termcolor>=1.1.0 in /Users/hephaestus/miniconda3/lib/python3.9/site-packages (from tensorflow==2.16.1->tensorflow-macos) (2.4.0)\n",
      "Requirement already satisfied: typing-extensions>=3.6.6 in /Users/hephaestus/miniconda3/lib/python3.9/site-packages (from tensorflow==2.16.1->tensorflow-macos) (4.7.1)\n",
      "Requirement already satisfied: wrapt>=1.11.0 in /Users/hephaestus/miniconda3/lib/python3.9/site-packages (from tensorflow==2.16.1->tensorflow-macos) (1.14.1)\n",
      "Requirement already satisfied: grpcio<2.0,>=1.24.3 in /Users/hephaestus/miniconda3/lib/python3.9/site-packages (from tensorflow==2.16.1->tensorflow-macos) (1.48.2)\n",
      "Requirement already satisfied: tensorboard<2.17,>=2.16 in /Users/hephaestus/miniconda3/lib/python3.9/site-packages (from tensorflow==2.16.1->tensorflow-macos) (2.16.2)\n",
      "Requirement already satisfied: keras>=3.0.0 in /Users/hephaestus/miniconda3/lib/python3.9/site-packages (from tensorflow==2.16.1->tensorflow-macos) (3.3.3)\n",
      "Requirement already satisfied: tensorflow-io-gcs-filesystem>=0.23.1 in /Users/hephaestus/miniconda3/lib/python3.9/site-packages (from tensorflow==2.16.1->tensorflow-macos) (0.34.0)\n",
      "Requirement already satisfied: numpy<2.0.0,>=1.23.5 in /Users/hephaestus/miniconda3/lib/python3.9/site-packages (from tensorflow==2.16.1->tensorflow-macos) (1.26.4)\n",
      "Requirement already satisfied: wheel<1.0,>=0.23.0 in /Users/hephaestus/miniconda3/lib/python3.9/site-packages (from astunparse>=1.6.0->tensorflow==2.16.1->tensorflow-macos) (0.41.2)\n",
      "Requirement already satisfied: rich in /Users/hephaestus/miniconda3/lib/python3.9/site-packages (from keras>=3.0.0->tensorflow==2.16.1->tensorflow-macos) (13.7.1)\n",
      "Requirement already satisfied: namex in /Users/hephaestus/miniconda3/lib/python3.9/site-packages (from keras>=3.0.0->tensorflow==2.16.1->tensorflow-macos) (0.0.8)\n",
      "Requirement already satisfied: optree in /Users/hephaestus/miniconda3/lib/python3.9/site-packages (from keras>=3.0.0->tensorflow==2.16.1->tensorflow-macos) (0.11.0)\n",
      "Requirement already satisfied: charset-normalizer<4,>=2 in /Users/hephaestus/miniconda3/lib/python3.9/site-packages (from requests<3,>=2.21.0->tensorflow==2.16.1->tensorflow-macos) (2.0.4)\n",
      "Requirement already satisfied: idna<4,>=2.5 in /Users/hephaestus/miniconda3/lib/python3.9/site-packages (from requests<3,>=2.21.0->tensorflow==2.16.1->tensorflow-macos) (3.4)\n",
      "Requirement already satisfied: urllib3<3,>=1.21.1 in /Users/hephaestus/miniconda3/lib/python3.9/site-packages (from requests<3,>=2.21.0->tensorflow==2.16.1->tensorflow-macos) (1.26.18)\n",
      "Requirement already satisfied: certifi>=2017.4.17 in /Users/hephaestus/miniconda3/lib/python3.9/site-packages (from requests<3,>=2.21.0->tensorflow==2.16.1->tensorflow-macos) (2024.2.2)\n",
      "Requirement already satisfied: markdown>=2.6.8 in /Users/hephaestus/miniconda3/lib/python3.9/site-packages (from tensorboard<2.17,>=2.16->tensorflow==2.16.1->tensorflow-macos) (3.5.1)\n",
      "Requirement already satisfied: tensorboard-data-server<0.8.0,>=0.7.0 in /Users/hephaestus/miniconda3/lib/python3.9/site-packages (from tensorboard<2.17,>=2.16->tensorflow==2.16.1->tensorflow-macos) (0.7.2)\n",
      "Requirement already satisfied: werkzeug>=1.0.1 in /Users/hephaestus/miniconda3/lib/python3.9/site-packages (from tensorboard<2.17,>=2.16->tensorflow==2.16.1->tensorflow-macos) (3.0.1)\n",
      "Requirement already satisfied: importlib-metadata>=4.4 in /Users/hephaestus/miniconda3/lib/python3.9/site-packages (from markdown>=2.6.8->tensorboard<2.17,>=2.16->tensorflow==2.16.1->tensorflow-macos) (6.0.0)\n",
      "Requirement already satisfied: MarkupSafe>=2.1.1 in /Users/hephaestus/miniconda3/lib/python3.9/site-packages (from werkzeug>=1.0.1->tensorboard<2.17,>=2.16->tensorflow==2.16.1->tensorflow-macos) (2.1.1)\n",
      "Requirement already satisfied: markdown-it-py>=2.2.0 in /Users/hephaestus/miniconda3/lib/python3.9/site-packages (from rich->keras>=3.0.0->tensorflow==2.16.1->tensorflow-macos) (3.0.0)\n",
      "Requirement already satisfied: pygments<3.0.0,>=2.13.0 in /Users/hephaestus/miniconda3/lib/python3.9/site-packages (from rich->keras>=3.0.0->tensorflow==2.16.1->tensorflow-macos) (2.15.1)\n",
      "Requirement already satisfied: zipp>=0.5 in /Users/hephaestus/miniconda3/lib/python3.9/site-packages (from importlib-metadata>=4.4->markdown>=2.6.8->tensorboard<2.17,>=2.16->tensorflow==2.16.1->tensorflow-macos) (3.11.0)\n",
      "Requirement already satisfied: mdurl~=0.1 in /Users/hephaestus/miniconda3/lib/python3.9/site-packages (from markdown-it-py>=2.2.0->rich->keras>=3.0.0->tensorflow==2.16.1->tensorflow-macos) (0.1.2)\n",
      "\u001b[33mWARNING: Running pip as the 'root' user can result in broken permissions and conflicting behaviour with the system package manager. It is recommended to use a virtual environment instead: https://pip.pypa.io/warnings/venv\u001b[0m\u001b[33m\n",
      "\u001b[0mNote: you may need to restart the kernel to use updated packages.\n"
     ]
    }
   ],
   "source": [
    "pip install tensorflow-macos"
   ]
  },
  {
   "cell_type": "markdown",
   "id": "bcd7ec67",
   "metadata": {},
   "source": [
    "### Install Metal plugin:"
   ]
  },
  {
   "cell_type": "code",
   "execution_count": 3,
   "id": "e5874204",
   "metadata": {},
   "outputs": [
    {
     "name": "stdout",
     "output_type": "stream",
     "text": [
      "\u001b[33mWARNING: The directory '/Users/hephaestus/Library/Caches/pip' or its parent directory is not owned or is not writable by the current user. The cache has been disabled. Check the permissions and owner of that directory. If executing pip with sudo, you should use sudo's -H flag.\u001b[0m\u001b[33m\n",
      "\u001b[0mRequirement already satisfied: tensorflow-metal in /Users/hephaestus/miniconda3/lib/python3.9/site-packages (1.1.0)\n",
      "Requirement already satisfied: wheel~=0.35 in /Users/hephaestus/miniconda3/lib/python3.9/site-packages (from tensorflow-metal) (0.41.2)\n",
      "Requirement already satisfied: six>=1.15.0 in /Users/hephaestus/miniconda3/lib/python3.9/site-packages (from tensorflow-metal) (1.16.0)\n",
      "\u001b[33mWARNING: Running pip as the 'root' user can result in broken permissions and conflicting behaviour with the system package manager. It is recommended to use a virtual environment instead: https://pip.pypa.io/warnings/venv\u001b[0m\u001b[33m\n",
      "\u001b[0mNote: you may need to restart the kernel to use updated packages.\n"
     ]
    }
   ],
   "source": [
    "pip install tensorflow-metal"
   ]
  },
  {
   "cell_type": "markdown",
   "id": "b7be1044",
   "metadata": {},
   "source": [
    "##  4. Install Jupyter Notebook and common packages\n",
    "\n",
    "Install first Jupyter Notebook:"
   ]
  },
  {
   "cell_type": "code",
   "execution_count": 4,
   "id": "db4e4b27",
   "metadata": {},
   "outputs": [
    {
     "name": "stdout",
     "output_type": "stream",
     "text": [
      "Channels:\n",
      " - defaults\n",
      " - anaconda\n",
      " - apple\n",
      "Platform: osx-arm64\n",
      "Collecting package metadata (repodata.json): done\n",
      "Solving environment: done\n",
      "\n",
      "# All requested packages already installed.\n",
      "\n",
      "\n",
      "Note: you may need to restart the kernel to use updated packages.\n"
     ]
    }
   ],
   "source": [
    "conda install notebook -y"
   ]
  },
  {
   "cell_type": "markdown",
   "id": "8e2b55d6",
   "metadata": {},
   "source": [
    "Now install common additional packages and upgrade the packages so that they are updated to the M1 architecture."
   ]
  },
  {
   "cell_type": "code",
   "execution_count": 5,
   "id": "897b4991",
   "metadata": {},
   "outputs": [
    {
     "name": "stdout",
     "output_type": "stream",
     "text": [
      "\u001b[33mWARNING: The directory '/Users/hephaestus/Library/Caches/pip' or its parent directory is not owned or is not writable by the current user. The cache has been disabled. Check the permissions and owner of that directory. If executing pip with sudo, you should use sudo's -H flag.\u001b[0m\u001b[33m\n",
      "\u001b[0mRequirement already satisfied: numpy in /Users/hephaestus/miniconda3/lib/python3.9/site-packages (1.26.4)\n",
      "\u001b[33mWARNING: Running pip as the 'root' user can result in broken permissions and conflicting behaviour with the system package manager. It is recommended to use a virtual environment instead: https://pip.pypa.io/warnings/venv\u001b[0m\u001b[33m\n",
      "\u001b[0m\u001b[33mWARNING: The directory '/Users/hephaestus/Library/Caches/pip' or its parent directory is not owned or is not writable by the current user. The cache has been disabled. Check the permissions and owner of that directory. If executing pip with sudo, you should use sudo's -H flag.\u001b[0m\u001b[33m\n",
      "\u001b[0mRequirement already satisfied: pandas in /Users/hephaestus/miniconda3/lib/python3.9/site-packages (2.2.2)\n",
      "Requirement already satisfied: numpy>=1.22.4 in /Users/hephaestus/miniconda3/lib/python3.9/site-packages (from pandas) (1.26.4)\n",
      "Requirement already satisfied: python-dateutil>=2.8.2 in /Users/hephaestus/miniconda3/lib/python3.9/site-packages (from pandas) (2.8.2)\n",
      "Requirement already satisfied: pytz>=2020.1 in /Users/hephaestus/miniconda3/lib/python3.9/site-packages (from pandas) (2023.3.post1)\n",
      "Requirement already satisfied: tzdata>=2022.7 in /Users/hephaestus/miniconda3/lib/python3.9/site-packages (from pandas) (2023.3)\n",
      "Requirement already satisfied: six>=1.5 in /Users/hephaestus/miniconda3/lib/python3.9/site-packages (from python-dateutil>=2.8.2->pandas) (1.16.0)\n",
      "\u001b[33mWARNING: Running pip as the 'root' user can result in broken permissions and conflicting behaviour with the system package manager. It is recommended to use a virtual environment instead: https://pip.pypa.io/warnings/venv\u001b[0m\u001b[33m\n",
      "\u001b[0m\u001b[33mWARNING: The directory '/Users/hephaestus/Library/Caches/pip' or its parent directory is not owned or is not writable by the current user. The cache has been disabled. Check the permissions and owner of that directory. If executing pip with sudo, you should use sudo's -H flag.\u001b[0m\u001b[33m\n",
      "\u001b[0mRequirement already satisfied: matplotlib in /Users/hephaestus/miniconda3/lib/python3.9/site-packages (3.8.4)\n",
      "Collecting matplotlib\n",
      "  Downloading matplotlib-3.9.0-cp39-cp39-macosx_11_0_arm64.whl.metadata (11 kB)\n",
      "Requirement already satisfied: contourpy>=1.0.1 in /Users/hephaestus/miniconda3/lib/python3.9/site-packages (from matplotlib) (1.2.0)\n",
      "Requirement already satisfied: cycler>=0.10 in /Users/hephaestus/miniconda3/lib/python3.9/site-packages (from matplotlib) (0.12.1)\n",
      "Requirement already satisfied: fonttools>=4.22.0 in /Users/hephaestus/miniconda3/lib/python3.9/site-packages (from matplotlib) (4.46.0)\n",
      "Requirement already satisfied: kiwisolver>=1.3.1 in /Users/hephaestus/miniconda3/lib/python3.9/site-packages (from matplotlib) (1.4.5)\n",
      "Requirement already satisfied: numpy>=1.23 in /Users/hephaestus/miniconda3/lib/python3.9/site-packages (from matplotlib) (1.26.4)\n",
      "Requirement already satisfied: packaging>=20.0 in /Users/hephaestus/miniconda3/lib/python3.9/site-packages (from matplotlib) (23.1)\n",
      "Requirement already satisfied: pillow>=8 in /Users/hephaestus/miniconda3/lib/python3.9/site-packages (from matplotlib) (10.1.0)\n",
      "Requirement already satisfied: pyparsing>=2.3.1 in /Users/hephaestus/miniconda3/lib/python3.9/site-packages (from matplotlib) (3.1.1)\n",
      "Requirement already satisfied: python-dateutil>=2.7 in /Users/hephaestus/miniconda3/lib/python3.9/site-packages (from matplotlib) (2.8.2)\n",
      "Requirement already satisfied: importlib-resources>=3.2.0 in /Users/hephaestus/miniconda3/lib/python3.9/site-packages (from matplotlib) (6.1.0)\n",
      "Requirement already satisfied: zipp>=3.1.0 in /Users/hephaestus/miniconda3/lib/python3.9/site-packages (from importlib-resources>=3.2.0->matplotlib) (3.11.0)\n",
      "Requirement already satisfied: six>=1.5 in /Users/hephaestus/miniconda3/lib/python3.9/site-packages (from python-dateutil>=2.7->matplotlib) (1.16.0)\n",
      "Downloading matplotlib-3.9.0-cp39-cp39-macosx_11_0_arm64.whl (7.8 MB)\n",
      "\u001b[2K   \u001b[38;2;114;156;31m━━━━━━━━━━━━━━━━━━━━━━━━━━━━━━━━━━━━━━━━\u001b[0m \u001b[32m7.8/7.8 MB\u001b[0m \u001b[31m9.8 MB/s\u001b[0m eta \u001b[36m0:00:00\u001b[0m[36m0:00:01\u001b[0m[36m0:00:01\u001b[0m:01\u001b[0m\n",
      "\u001b[?25hInstalling collected packages: matplotlib\n",
      "  Attempting uninstall: matplotlib\n",
      "    Found existing installation: matplotlib 3.8.4\n",
      "    Uninstalling matplotlib-3.8.4:\n",
      "      Successfully uninstalled matplotlib-3.8.4\n",
      "Successfully installed matplotlib-3.9.0\n",
      "\u001b[33mWARNING: Running pip as the 'root' user can result in broken permissions and conflicting behaviour with the system package manager. It is recommended to use a virtual environment instead: https://pip.pypa.io/warnings/venv\u001b[0m\u001b[33m\n",
      "\u001b[0m\u001b[33mWARNING: The directory '/Users/hephaestus/Library/Caches/pip' or its parent directory is not owned or is not writable by the current user. The cache has been disabled. Check the permissions and owner of that directory. If executing pip with sudo, you should use sudo's -H flag.\u001b[0m\u001b[33m\n",
      "\u001b[0mRequirement already satisfied: scikit-learn in /Users/hephaestus/miniconda3/lib/python3.9/site-packages (1.4.2)\n",
      "Requirement already satisfied: numpy>=1.19.5 in /Users/hephaestus/miniconda3/lib/python3.9/site-packages (from scikit-learn) (1.26.4)\n",
      "Requirement already satisfied: scipy>=1.6.0 in /Users/hephaestus/miniconda3/lib/python3.9/site-packages (from scikit-learn) (1.13.0)\n",
      "Requirement already satisfied: joblib>=1.2.0 in /Users/hephaestus/miniconda3/lib/python3.9/site-packages (from scikit-learn) (1.3.2)\n",
      "Requirement already satisfied: threadpoolctl>=2.0.0 in /Users/hephaestus/miniconda3/lib/python3.9/site-packages (from scikit-learn) (3.2.0)\n",
      "\u001b[33mWARNING: Running pip as the 'root' user can result in broken permissions and conflicting behaviour with the system package manager. It is recommended to use a virtual environment instead: https://pip.pypa.io/warnings/venv\u001b[0m\u001b[33m\n",
      "\u001b[0m\u001b[33mWARNING: The directory '/Users/hephaestus/Library/Caches/pip' or its parent directory is not owned or is not writable by the current user. The cache has been disabled. Check the permissions and owner of that directory. If executing pip with sudo, you should use sudo's -H flag.\u001b[0m\u001b[33m\n",
      "\u001b[0mRequirement already satisfied: scipy in /Users/hephaestus/miniconda3/lib/python3.9/site-packages (1.13.0)\n",
      "Requirement already satisfied: numpy<2.3,>=1.22.4 in /Users/hephaestus/miniconda3/lib/python3.9/site-packages (from scipy) (1.26.4)\n",
      "\u001b[33mWARNING: Running pip as the 'root' user can result in broken permissions and conflicting behaviour with the system package manager. It is recommended to use a virtual environment instead: https://pip.pypa.io/warnings/venv\u001b[0m\u001b[33m\n",
      "\u001b[0m\u001b[33mWARNING: The directory '/Users/hephaestus/Library/Caches/pip' or its parent directory is not owned or is not writable by the current user. The cache has been disabled. Check the permissions and owner of that directory. If executing pip with sudo, you should use sudo's -H flag.\u001b[0m\u001b[33m\n",
      "\u001b[0mRequirement already satisfied: plotly in /Users/hephaestus/miniconda3/lib/python3.9/site-packages (5.22.0)\n",
      "Requirement already satisfied: tenacity>=6.2.0 in /Users/hephaestus/miniconda3/lib/python3.9/site-packages (from plotly) (8.2.3)\n",
      "Requirement already satisfied: packaging in /Users/hephaestus/miniconda3/lib/python3.9/site-packages (from plotly) (23.1)\n",
      "\u001b[33mWARNING: Running pip as the 'root' user can result in broken permissions and conflicting behaviour with the system package manager. It is recommended to use a virtual environment instead: https://pip.pypa.io/warnings/venv\u001b[0m\u001b[33m\n",
      "\u001b[0m"
     ]
    }
   ],
   "source": [
    "!pip install numpy --upgrade\n",
    "!pip install pandas --upgrade\n",
    "!pip install matplotlib --upgrade\n",
    "!pip install scikit-learn --upgrade\n",
    "!pip install scipy --upgrade\n",
    "!pip install plotly --upgrade"
   ]
  },
  {
   "cell_type": "markdown",
   "id": "9efa50b0",
   "metadata": {},
   "source": [
    "Start now Jupyter Notebook in your desired working directory <br>\n",
    "(change \"/Users/Jupyterfiles\" with your working directory path)"
   ]
  },
  {
   "cell_type": "code",
   "execution_count": 6,
   "id": "353af34e",
   "metadata": {},
   "outputs": [
    {
     "ename": "SyntaxError",
     "evalue": "invalid syntax (1275197304.py, line 1)",
     "output_type": "error",
     "traceback": [
      "\u001b[0;36m  Cell \u001b[0;32mIn[6], line 1\u001b[0;36m\u001b[0m\n\u001b[0;31m    sudo jupyter notebook --notebook-dir=\"/Users/Jupyterfiles\"\u001b[0m\n\u001b[0m         ^\u001b[0m\n\u001b[0;31mSyntaxError\u001b[0m\u001b[0;31m:\u001b[0m invalid syntax\n"
     ]
    }
   ],
   "source": [
    "sudo jupyter notebook --notebook-dir=\"/Users/Jupyterfiles\"\n"
   ]
  },
  {
   "cell_type": "markdown",
   "id": "abe2eeb5",
   "metadata": {},
   "source": [
    "## 5. Check GPU availability"
   ]
  },
  {
   "cell_type": "code",
   "execution_count": 7,
   "id": "54e7786f",
   "metadata": {},
   "outputs": [
    {
     "name": "stdout",
     "output_type": "stream",
     "text": [
      "Python Platform: macOS-14.3.1-arm64-arm-64bit\n",
      "Tensor Flow Version: 2.16.1\n",
      "Keras Version: 3.3.3\n",
      "\n",
      "Python 3.9.18 (main, Sep 11 2023, 08:25:10) \n",
      "[Clang 14.0.6 ]\n",
      "Pandas 2.2.2\n",
      "Scikit-Learn 1.4.2\n",
      "SciPy 1.13.0\n",
      "GPU is available\n"
     ]
    }
   ],
   "source": []
  },
  {
   "cell_type": "code",
   "execution_count": null,
   "id": "c3cea7dd",
   "metadata": {},
   "outputs": [],
   "source": []
  }
 ],
 "metadata": {
  "kernelspec": {
   "display_name": "Python 3 (ipykernel)",
   "language": "python",
   "name": "python3"
  },
  "language_info": {
   "codemirror_mode": {
    "name": "ipython",
    "version": 3
   },
   "file_extension": ".py",
   "mimetype": "text/x-python",
   "name": "python",
   "nbconvert_exporter": "python",
   "pygments_lexer": "ipython3",
   "version": "3.9.18"
  }
 },
 "nbformat": 4,
 "nbformat_minor": 5
}
